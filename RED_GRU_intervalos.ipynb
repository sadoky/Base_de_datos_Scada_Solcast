{
  "nbformat": 4,
  "nbformat_minor": 0,
  "metadata": {
    "colab": {
      "provenance": [],
      "collapsed_sections": [],
      "authorship_tag": "ABX9TyNRireEU+DYE9ch0taCYAww",
      "include_colab_link": true
    },
    "kernelspec": {
      "name": "python3",
      "display_name": "Python 3"
    },
    "language_info": {
      "name": "python"
    }
  },
  "cells": [
    {
      "cell_type": "markdown",
      "metadata": {
        "id": "view-in-github",
        "colab_type": "text"
      },
      "source": [
        "<a href=\"https://colab.research.google.com/github/sadoky/Base_de_datos_Scada_Solcast/blob/master/RED_GRU_intervalos.ipynb\" target=\"_parent\"><img src=\"https://colab.research.google.com/assets/colab-badge.svg\" alt=\"Open In Colab\"/></a>"
      ]
    },
    {
      "cell_type": "code",
      "execution_count": 1,
      "metadata": {
        "id": "_lbWF6hEN9Mo"
      },
      "outputs": [],
      "source": [
        "\n",
        "\n",
        "import numpy as np\n",
        "np.random.seed(4)\n",
        "import matplotlib.pyplot as plt\n",
        "import pandas as pd\n",
        "from sklearn.preprocessing import MinMaxScaler\n",
        "\n",
        "\n",
        "\n",
        "\n",
        "\n",
        "\n",
        "#[dataset['AirTemp'].iloc[0:8700]]"
      ]
    },
    {
      "cell_type": "code",
      "source": [
        "dataset=pd.read_csv('https://raw.githubusercontent.com/sadoky/Pandas/master/1.232462_-77.293538_Solcast_PT5M.csv')\n"
      ],
      "metadata": {
        "id": "4ZfxtYokOHyv"
      },
      "execution_count": 2,
      "outputs": []
    },
    {
      "cell_type": "code",
      "source": [
        "set_entrenamiento1= (dataset[\"Ghi\"].iloc[0:6000])\n",
        "set_validacion1 = dataset[\"Ghi\"].iloc[6000:8000]"
      ],
      "metadata": {
        "id": "XEClOEkoOjen"
      },
      "execution_count": 3,
      "outputs": []
    },
    {
      "cell_type": "code",
      "source": [
        "sc = MinMaxScaler(feature_range=(0,1))\n",
        "set_entrenamiento=set_entrenamiento1.values.reshape(-1,1)\n",
        "set_entrenamiento_escalado = sc.fit_transform(set_entrenamiento)"
      ],
      "metadata": {
        "id": "NkGNO2U6PJhA"
      },
      "execution_count": 4,
      "outputs": []
    },
    {
      "cell_type": "code",
      "source": [
        "time_step = 60\n",
        "X_train = []\n",
        "Y_train = []\n",
        "m = len(set_entrenamiento_escalado)\n",
        "\n",
        "for i in range(time_step,m):\n",
        "    # X: bloques de \"time_step\" datos: 0-time_step, 1-time_step+1, 2-time_step+2, etc\n",
        "    X_train.append(set_entrenamiento_escalado[i-time_step:i,0])\n",
        "\n",
        "    # Y: el siguiente dato\n",
        "    Y_train.append(set_entrenamiento_escalado[i,0])\n",
        "X_train, Y_train = np.array(X_train), np.array(Y_train)"
      ],
      "metadata": {
        "id": "IbqgFeb_la_R"
      },
      "execution_count": 5,
      "outputs": []
    },
    {
      "cell_type": "code",
      "source": [
        "X_train = np.reshape(X_train, (X_train.shape[0], X_train.shape[1], 1))"
      ],
      "metadata": {
        "id": "t_hzKlL2lzf9"
      },
      "execution_count": 6,
      "outputs": []
    },
    {
      "cell_type": "code",
      "source": [
        "from keras.models import Sequential\n",
        "from keras.layers import GRU, Dense"
      ],
      "metadata": {
        "id": "Khz-pGZxl2zz"
      },
      "execution_count": 7,
      "outputs": []
    },
    {
      "cell_type": "code",
      "source": [
        "dim_entrada = (X_train.shape[1],1)\n",
        "dim_salida = 1\n",
        "na = 50"
      ],
      "metadata": {
        "id": "EpM_8ZBOl6Un"
      },
      "execution_count": 8,
      "outputs": []
    },
    {
      "cell_type": "code",
      "source": [
        "modelo = Sequential()"
      ],
      "metadata": {
        "id": "Ja9nmjl1l_wd"
      },
      "execution_count": 9,
      "outputs": []
    },
    {
      "cell_type": "code",
      "source": [
        "modelo.add(GRU(units=na, input_shape=dim_entrada))"
      ],
      "metadata": {
        "id": "fr_pkMwkmAck"
      },
      "execution_count": 10,
      "outputs": []
    },
    {
      "cell_type": "code",
      "source": [
        "modelo.add(Dense(units=dim_salida))"
      ],
      "metadata": {
        "id": "_EwaQyahmTC2"
      },
      "execution_count": 11,
      "outputs": []
    },
    {
      "cell_type": "code",
      "source": [
        "from keras.callbacks import learning_rate_schedule\n",
        "modelo.compile(optimizer=\"adam\", loss='mse')"
      ],
      "metadata": {
        "id": "RR26_7J8mZP2"
      },
      "execution_count": 12,
      "outputs": []
    },
    {
      "cell_type": "code",
      "source": [
        "history=modelo.fit(X_train,Y_train,epochs=20,batch_size=32,verbose=2)\n"
      ],
      "metadata": {
        "colab": {
          "base_uri": "https://localhost:8080/"
        },
        "id": "9FTNNbVwmcuj",
        "outputId": "c382f315-7596-413c-cf90-9dfdfc7db665"
      },
      "execution_count": 13,
      "outputs": [
        {
          "output_type": "stream",
          "name": "stdout",
          "text": [
            "Epoch 1/20\n",
            "186/186 - 15s - loss: 0.0079 - 15s/epoch - 83ms/step\n",
            "Epoch 2/20\n",
            "186/186 - 7s - loss: 0.0015 - 7s/epoch - 40ms/step\n",
            "Epoch 3/20\n",
            "186/186 - 6s - loss: 0.0011 - 6s/epoch - 30ms/step\n",
            "Epoch 4/20\n",
            "186/186 - 5s - loss: 8.5230e-04 - 5s/epoch - 29ms/step\n",
            "Epoch 5/20\n",
            "186/186 - 6s - loss: 7.2733e-04 - 6s/epoch - 30ms/step\n",
            "Epoch 6/20\n",
            "186/186 - 5s - loss: 6.4264e-04 - 5s/epoch - 29ms/step\n",
            "Epoch 7/20\n",
            "186/186 - 5s - loss: 5.4730e-04 - 5s/epoch - 30ms/step\n",
            "Epoch 8/20\n",
            "186/186 - 5s - loss: 4.9590e-04 - 5s/epoch - 29ms/step\n",
            "Epoch 9/20\n",
            "186/186 - 5s - loss: 4.4023e-04 - 5s/epoch - 29ms/step\n",
            "Epoch 10/20\n",
            "186/186 - 5s - loss: 4.0098e-04 - 5s/epoch - 29ms/step\n",
            "Epoch 11/20\n",
            "186/186 - 5s - loss: 3.6216e-04 - 5s/epoch - 29ms/step\n",
            "Epoch 12/20\n",
            "186/186 - 6s - loss: 3.3552e-04 - 6s/epoch - 30ms/step\n",
            "Epoch 13/20\n",
            "186/186 - 6s - loss: 3.1629e-04 - 6s/epoch - 30ms/step\n",
            "Epoch 14/20\n",
            "186/186 - 6s - loss: 2.7634e-04 - 6s/epoch - 30ms/step\n",
            "Epoch 15/20\n",
            "186/186 - 5s - loss: 2.3775e-04 - 5s/epoch - 29ms/step\n",
            "Epoch 16/20\n",
            "186/186 - 6s - loss: 2.1822e-04 - 6s/epoch - 30ms/step\n",
            "Epoch 17/20\n",
            "186/186 - 5s - loss: 2.0734e-04 - 5s/epoch - 29ms/step\n",
            "Epoch 18/20\n",
            "186/186 - 6s - loss: 1.9490e-04 - 6s/epoch - 34ms/step\n",
            "Epoch 19/20\n",
            "186/186 - 6s - loss: 1.8167e-04 - 6s/epoch - 32ms/step\n",
            "Epoch 20/20\n",
            "186/186 - 6s - loss: 1.8775e-04 - 6s/epoch - 30ms/step\n"
          ]
        }
      ]
    },
    {
      "cell_type": "code",
      "source": [
        "\n",
        "\n",
        "history_dict = history.history\n",
        "print(history_dict.keys())"
      ],
      "metadata": {
        "colab": {
          "base_uri": "https://localhost:8080/"
        },
        "id": "ygGZn9RAV0xq",
        "outputId": "c0e17f4e-1f2f-4f72-ee82-3ee3675c6aff"
      },
      "execution_count": 14,
      "outputs": [
        {
          "output_type": "stream",
          "name": "stdout",
          "text": [
            "dict_keys(['loss'])\n"
          ]
        }
      ]
    },
    {
      "cell_type": "code",
      "source": [
        "x_test = set_validacion1.values\n",
        "x_test=x_test.reshape(-1,1)\n",
        "x_test = sc.transform(x_test)"
      ],
      "metadata": {
        "id": "0neUEea2nIst"
      },
      "execution_count": 15,
      "outputs": []
    },
    {
      "cell_type": "code",
      "source": [
        "X_test = []\n",
        "for i in range(time_step,len(x_test)):\n",
        "    X_test.append(x_test[i-time_step:i,0])\n",
        "X_test = np.array(X_test)\n",
        "X_test = np.reshape(X_test, (X_test.shape[0],X_test.shape[1],1))"
      ],
      "metadata": {
        "id": "qTsq7sd1nyet"
      },
      "execution_count": 16,
      "outputs": []
    },
    {
      "cell_type": "code",
      "source": [
        "prediccion = modelo.predict(X_test)\n",
        "prediccion = sc.inverse_transform(prediccion)\n",
        "prediccion2=pd.DataFrame(prediccion)\n"
      ],
      "metadata": {
        "id": "RHmgEWIZn2AQ"
      },
      "execution_count": 17,
      "outputs": []
    },
    {
      "cell_type": "code",
      "source": [
        "prediccion2\n"
      ],
      "metadata": {
        "colab": {
          "base_uri": "https://localhost:8080/",
          "height": 424
        },
        "id": "lOLWLlYwwhqp",
        "outputId": "2f94f079-ecc3-46b9-a1dd-52830804b07e"
      },
      "execution_count": 18,
      "outputs": [
        {
          "output_type": "execute_result",
          "data": {
            "text/plain": [
              "               0\n",
              "0       0.297090\n",
              "1       0.302422\n",
              "2       0.306827\n",
              "3       0.310426\n",
              "4       0.313282\n",
              "...          ...\n",
              "1935  407.575775\n",
              "1936  434.437531\n",
              "1937  387.955170\n",
              "1938  367.293488\n",
              "1939  422.459717\n",
              "\n",
              "[1940 rows x 1 columns]"
            ],
            "text/html": [
              "\n",
              "  <div id=\"df-9f4218de-9fc2-44ba-8c08-253a27800fe9\">\n",
              "    <div class=\"colab-df-container\">\n",
              "      <div>\n",
              "<style scoped>\n",
              "    .dataframe tbody tr th:only-of-type {\n",
              "        vertical-align: middle;\n",
              "    }\n",
              "\n",
              "    .dataframe tbody tr th {\n",
              "        vertical-align: top;\n",
              "    }\n",
              "\n",
              "    .dataframe thead th {\n",
              "        text-align: right;\n",
              "    }\n",
              "</style>\n",
              "<table border=\"1\" class=\"dataframe\">\n",
              "  <thead>\n",
              "    <tr style=\"text-align: right;\">\n",
              "      <th></th>\n",
              "      <th>0</th>\n",
              "    </tr>\n",
              "  </thead>\n",
              "  <tbody>\n",
              "    <tr>\n",
              "      <th>0</th>\n",
              "      <td>0.297090</td>\n",
              "    </tr>\n",
              "    <tr>\n",
              "      <th>1</th>\n",
              "      <td>0.302422</td>\n",
              "    </tr>\n",
              "    <tr>\n",
              "      <th>2</th>\n",
              "      <td>0.306827</td>\n",
              "    </tr>\n",
              "    <tr>\n",
              "      <th>3</th>\n",
              "      <td>0.310426</td>\n",
              "    </tr>\n",
              "    <tr>\n",
              "      <th>4</th>\n",
              "      <td>0.313282</td>\n",
              "    </tr>\n",
              "    <tr>\n",
              "      <th>...</th>\n",
              "      <td>...</td>\n",
              "    </tr>\n",
              "    <tr>\n",
              "      <th>1935</th>\n",
              "      <td>407.575775</td>\n",
              "    </tr>\n",
              "    <tr>\n",
              "      <th>1936</th>\n",
              "      <td>434.437531</td>\n",
              "    </tr>\n",
              "    <tr>\n",
              "      <th>1937</th>\n",
              "      <td>387.955170</td>\n",
              "    </tr>\n",
              "    <tr>\n",
              "      <th>1938</th>\n",
              "      <td>367.293488</td>\n",
              "    </tr>\n",
              "    <tr>\n",
              "      <th>1939</th>\n",
              "      <td>422.459717</td>\n",
              "    </tr>\n",
              "  </tbody>\n",
              "</table>\n",
              "<p>1940 rows × 1 columns</p>\n",
              "</div>\n",
              "      <button class=\"colab-df-convert\" onclick=\"convertToInteractive('df-9f4218de-9fc2-44ba-8c08-253a27800fe9')\"\n",
              "              title=\"Convert this dataframe to an interactive table.\"\n",
              "              style=\"display:none;\">\n",
              "        \n",
              "  <svg xmlns=\"http://www.w3.org/2000/svg\" height=\"24px\"viewBox=\"0 0 24 24\"\n",
              "       width=\"24px\">\n",
              "    <path d=\"M0 0h24v24H0V0z\" fill=\"none\"/>\n",
              "    <path d=\"M18.56 5.44l.94 2.06.94-2.06 2.06-.94-2.06-.94-.94-2.06-.94 2.06-2.06.94zm-11 1L8.5 8.5l.94-2.06 2.06-.94-2.06-.94L8.5 2.5l-.94 2.06-2.06.94zm10 10l.94 2.06.94-2.06 2.06-.94-2.06-.94-.94-2.06-.94 2.06-2.06.94z\"/><path d=\"M17.41 7.96l-1.37-1.37c-.4-.4-.92-.59-1.43-.59-.52 0-1.04.2-1.43.59L10.3 9.45l-7.72 7.72c-.78.78-.78 2.05 0 2.83L4 21.41c.39.39.9.59 1.41.59.51 0 1.02-.2 1.41-.59l7.78-7.78 2.81-2.81c.8-.78.8-2.07 0-2.86zM5.41 20L4 18.59l7.72-7.72 1.47 1.35L5.41 20z\"/>\n",
              "  </svg>\n",
              "      </button>\n",
              "      \n",
              "  <style>\n",
              "    .colab-df-container {\n",
              "      display:flex;\n",
              "      flex-wrap:wrap;\n",
              "      gap: 12px;\n",
              "    }\n",
              "\n",
              "    .colab-df-convert {\n",
              "      background-color: #E8F0FE;\n",
              "      border: none;\n",
              "      border-radius: 50%;\n",
              "      cursor: pointer;\n",
              "      display: none;\n",
              "      fill: #1967D2;\n",
              "      height: 32px;\n",
              "      padding: 0 0 0 0;\n",
              "      width: 32px;\n",
              "    }\n",
              "\n",
              "    .colab-df-convert:hover {\n",
              "      background-color: #E2EBFA;\n",
              "      box-shadow: 0px 1px 2px rgba(60, 64, 67, 0.3), 0px 1px 3px 1px rgba(60, 64, 67, 0.15);\n",
              "      fill: #174EA6;\n",
              "    }\n",
              "\n",
              "    [theme=dark] .colab-df-convert {\n",
              "      background-color: #3B4455;\n",
              "      fill: #D2E3FC;\n",
              "    }\n",
              "\n",
              "    [theme=dark] .colab-df-convert:hover {\n",
              "      background-color: #434B5C;\n",
              "      box-shadow: 0px 1px 3px 1px rgba(0, 0, 0, 0.15);\n",
              "      filter: drop-shadow(0px 1px 2px rgba(0, 0, 0, 0.3));\n",
              "      fill: #FFFFFF;\n",
              "    }\n",
              "  </style>\n",
              "\n",
              "      <script>\n",
              "        const buttonEl =\n",
              "          document.querySelector('#df-9f4218de-9fc2-44ba-8c08-253a27800fe9 button.colab-df-convert');\n",
              "        buttonEl.style.display =\n",
              "          google.colab.kernel.accessAllowed ? 'block' : 'none';\n",
              "\n",
              "        async function convertToInteractive(key) {\n",
              "          const element = document.querySelector('#df-9f4218de-9fc2-44ba-8c08-253a27800fe9');\n",
              "          const dataTable =\n",
              "            await google.colab.kernel.invokeFunction('convertToInteractive',\n",
              "                                                     [key], {});\n",
              "          if (!dataTable) return;\n",
              "\n",
              "          const docLinkHtml = 'Like what you see? Visit the ' +\n",
              "            '<a target=\"_blank\" href=https://colab.research.google.com/notebooks/data_table.ipynb>data table notebook</a>'\n",
              "            + ' to learn more about interactive tables.';\n",
              "          element.innerHTML = '';\n",
              "          dataTable['output_type'] = 'display_data';\n",
              "          await google.colab.output.renderOutput(dataTable, element);\n",
              "          const docLink = document.createElement('div');\n",
              "          docLink.innerHTML = docLinkHtml;\n",
              "          element.appendChild(docLink);\n",
              "        }\n",
              "      </script>\n",
              "    </div>\n",
              "  </div>\n",
              "  "
            ]
          },
          "metadata": {},
          "execution_count": 18
        }
      ]
    },
    {
      "cell_type": "code",
      "source": [
        "xaxis=np.arange(start=0,stop=43500,step=5)\n",
        "\n"
      ],
      "metadata": {
        "id": "qwLuSzvXn4eV"
      },
      "execution_count": 19,
      "outputs": []
    },
    {
      "cell_type": "code",
      "source": [
        "url='https://raw.githubusercontent.com/sadoky/Pandas/master/1.232462_-77.293538_Solcast_PT5M.csv'\n",
        "df=pd.read_csv(url)\n",
        "datos_train=df[\"Ghi\"].iloc[0:6000]\n",
        "datos_val=df[\"Ghi\"].iloc[6000:8000]\n",
        "\n",
        "datos_val\n"
      ],
      "metadata": {
        "colab": {
          "base_uri": "https://localhost:8080/"
        },
        "id": "N39tCRL4pCnv",
        "outputId": "e1de2287-22e4-4c43-9abc-387166382bf4"
      },
      "execution_count": 20,
      "outputs": [
        {
          "output_type": "execute_result",
          "data": {
            "text/plain": [
              "6000    476\n",
              "6001    525\n",
              "6002    488\n",
              "6003    393\n",
              "6004    391\n",
              "       ... \n",
              "7995    419\n",
              "7996    416\n",
              "7997    385\n",
              "7998    396\n",
              "7999    434\n",
              "Name: Ghi, Length: 2000, dtype: int64"
            ]
          },
          "metadata": {},
          "execution_count": 20
        }
      ]
    },
    {
      "cell_type": "code",
      "source": [
        "from numpy.matrixlib.defmatrix import concatenate\n",
        "\n",
        "j=np.zeros(6055,int)\n",
        "pred44=pd.DataFrame(j)\n",
        "pred56=np.asarray(prediccion2,dtype=np.float64)\n",
        "\n",
        "pred56=pred56.reshape(-1,1)\n",
        "pred57=j.reshape(-1,1)\n",
        "pred56\n",
        "\n",
        "\n",
        "\n"
      ],
      "metadata": {
        "colab": {
          "base_uri": "https://localhost:8080/"
        },
        "id": "Surffoak0pIc",
        "outputId": "a28baf38-ff69-40ec-d0c4-e2f88d2a32b2"
      },
      "execution_count": 21,
      "outputs": [
        {
          "output_type": "execute_result",
          "data": {
            "text/plain": [
              "array([[2.97089875e-01],\n",
              "       [3.02421570e-01],\n",
              "       [3.06827068e-01],\n",
              "       ...,\n",
              "       [3.87955170e+02],\n",
              "       [3.67293488e+02],\n",
              "       [4.22459717e+02]])"
            ]
          },
          "metadata": {},
          "execution_count": 21
        }
      ]
    },
    {
      "cell_type": "code",
      "source": [
        "lim=np.concatenate((pred57,pred56))\n",
        "lim\n",
        "lim2=pd.DataFrame(lim)\n",
        "prediccion_final=lim2[6000:]"
      ],
      "metadata": {
        "id": "bjUiWJ7kIwr4"
      },
      "execution_count": 22,
      "outputs": []
    },
    {
      "cell_type": "code",
      "source": [
        "fig, ax = plt.subplots(figsize=(9, 4))\n",
        "datos_train.plot(ax=ax, label='train')\n",
        "datos_val.plot(ax=ax, label='test')\n",
        "prediccion_final.plot(ax=ax,label=\"predict\")\n",
        "\n",
        "ax.legend();"
      ],
      "metadata": {
        "colab": {
          "base_uri": "https://localhost:8080/",
          "height": 265
        },
        "id": "MMCRWp2u4h6I",
        "outputId": "9bfa1bb7-0ed2-48a6-b330-5b5ef8ea61ed"
      },
      "execution_count": 23,
      "outputs": [
        {
          "output_type": "display_data",
          "data": {
            "text/plain": [
              "<Figure size 648x288 with 1 Axes>"
            ],
            "image/png": "[encoded data removed]"
          },
          "metadata": {
            "needs_background": "light"
          }
        }
      ]
    },
    {
      "cell_type": "code",
      "source": [
        "fig, ax = plt.subplots(figsize=(9, 4))\n",
        "#datos_train.plot(ax=ax, label='train')\n",
        "datos_val.plot(ax=ax, label='test')\n",
        "lim2.plot(ax=ax, label='predict')\n",
        "plt.xlim(6000,8000)\n",
        "ax.legend();\n",
        "\n",
        "\n",
        "\n"
      ],
      "metadata": {
        "colab": {
          "base_uri": "https://localhost:8080/",
          "height": 265
        },
        "id": "uUJepLsUMLN6",
        "outputId": "eb817082-37f2-415d-dec7-7096b95f3f7e"
      },
      "execution_count": 24,
      "outputs": [
        {
          "output_type": "display_data",
          "data": {
            "text/plain": [
              "<Figure size 648x288 with 1 Axes>"
            ],
            "image/png": "[encoded data removed]"
          },
          "metadata": {
            "needs_background": "light"
          }
        }
      ]
    }
  ]
}